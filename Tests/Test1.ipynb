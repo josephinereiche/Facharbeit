{
  "nbformat": 4,
  "nbformat_minor": 0,
  "metadata": {
    "colab": {
      "name": "Test1.ipynb",
      "version": "0.3.2",
      "provenance": [],
      "collapsed_sections": [],
      "include_colab_link": true
    },
    "kernelspec": {
      "name": "python3",
      "display_name": "Python 3"
    }
  },
  "cells": [
    {
      "cell_type": "markdown",
      "metadata": {
        "id": "view-in-github",
        "colab_type": "text"
      },
      "source": [
        "[View in Colaboratory](https://colab.research.google.com/github/phinelepluscool/Facharbeit/blob/master/Tests/Test1.ipynb)"
      ]
    },
    {
      "metadata": {
        "id": "qMJ_RC1RoF7-",
        "colab_type": "code",
        "colab": {
          "base_uri": "https://localhost:8080/",
          "height": 34
        },
        "outputId": "676ba091-0cde-47c1-f276-ece7e875c277"
      },
      "cell_type": "code",
      "source": [
        "print (\"hello world\")"
      ],
      "execution_count": 1,
      "outputs": [
        {
          "output_type": "stream",
          "text": [
            "hello world\n"
          ],
          "name": "stdout"
        }
      ]
    },
    {
      "metadata": {
        "id": "v7huPiSNo0bh",
        "colab_type": "text"
      },
      "cell_type": "markdown",
      "source": [
        "# **Das ist meine Test-Überschrift**"
      ]
    },
    {
      "metadata": {
        "id": "dfXVwCiasoNJ",
        "colab_type": "code",
        "colab": {
          "base_uri": "https://localhost:8080/",
          "height": 272
        },
        "outputId": "94770ff7-b7f2-4943-84af-a14385202cd6"
      },
      "cell_type": "code",
      "source": [
        "!echo \"# Facharbeit\" >> README.md\n",
        "!git init\n",
        "!git add README.md\n",
        "!git commit -m \"first commit\"\n",
        "!git remote add origin https://github.com/phinelepluscool/Facharbeit.git\n",
        "!git push -u origin master\n"
      ],
      "execution_count": 3,
      "outputs": [
        {
          "output_type": "stream",
          "text": [
            "Initialized empty Git repository in /content/.git/\n",
            "\n",
            "*** Please tell me who you are.\n",
            "\n",
            "Run\n",
            "\n",
            "  git config --global user.email \"you@example.com\"\n",
            "  git config --global user.name \"Your Name\"\n",
            "\n",
            "to set your account's default identity.\n",
            "Omit --global to set the identity only in this repository.\n",
            "\n",
            "fatal: unable to auto-detect email address (got 'root@17b19999fb90.(none)')\n",
            "error: src refspec master does not match any.\n",
            "error: failed to push some refs to 'https://github.com/phinelepluscool/Facharbeit.git'\n"
          ],
          "name": "stdout"
        }
      ]
    },
    {
      "metadata": {
        "id": "ksgPR-rXtD6V",
        "colab_type": "code",
        "colab": {
          "base_uri": "https://localhost:8080/",
          "height": 646
        },
        "outputId": "bd71312b-2f10-4484-9040-766bff614be9"
      },
      "cell_type": "code",
      "source": [
        "!git config\n",
        "\n"
      ],
      "execution_count": 5,
      "outputs": [
        {
          "output_type": "stream",
          "text": [
            "usage: git config [<options>]\n",
            "\n",
            "Config file location\n",
            "    --global              use global config file\n",
            "    --system              use system config file\n",
            "    --local               use repository config file\n",
            "    -f, --file <file>     use given config file\n",
            "    --blob <blob-id>      read config from given blob object\n",
            "\n",
            "Action\n",
            "    --get                 get value: name [value-regex]\n",
            "    --get-all             get all values: key [value-regex]\n",
            "    --get-regexp          get values for regexp: name-regex [value-regex]\n",
            "    --get-urlmatch        get value specific for the URL: section[.var] URL\n",
            "    --replace-all         replace all matching variables: name value [value_regex]\n",
            "    --add                 add a new variable: name value\n",
            "    --unset               remove a variable: name [value-regex]\n",
            "    --unset-all           remove all matches: name [value-regex]\n",
            "    --rename-section      rename section: old-name new-name\n",
            "    --remove-section      remove a section: name\n",
            "    -l, --list            list all\n",
            "    -e, --edit            open an editor\n",
            "    --get-color           find the color configured: slot [default]\n",
            "    --get-colorbool       find the color setting: slot [stdout-is-tty]\n",
            "\n",
            "Type\n",
            "    --bool                value is \"true\" or \"false\"\n",
            "    --int                 value is decimal number\n",
            "    --bool-or-int         value is --bool or --int\n",
            "    --path                value is a path (file or directory name)\n",
            "\n",
            "Other\n",
            "    -z, --null            terminate values with NUL byte\n",
            "    --name-only           show variable names only\n",
            "    --includes            respect include directives on lookup\n",
            "    --show-origin         show origin of config (file, standard input, blob, command line)\n",
            "\n"
          ],
          "name": "stdout"
        }
      ]
    }
  ]
}